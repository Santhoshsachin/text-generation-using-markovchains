{
  "nbformat": 4,
  "nbformat_minor": 0,
  "metadata": {
    "colab": {
      "provenance": []
    },
    "kernelspec": {
      "name": "python3",
      "display_name": "Python 3"
    },
    "language_info": {
      "name": "python"
    }
  },
  "cells": [
    {
      "cell_type": "code",
      "execution_count": 4,
      "metadata": {
        "colab": {
          "base_uri": "https://localhost:8080/"
        },
        "collapsed": true,
        "id": "283ORR_rxUfJ",
        "outputId": "2e049f03-afa3-4b7a-f4ee-bca3137b18fa"
      },
      "outputs": [
        {
          "output_type": "stream",
          "name": "stdout",
          "text": [
            "Requirement already satisfied: markovify in /usr/local/lib/python3.10/dist-packages (0.9.4)\n",
            "Requirement already satisfied: unidecode in /usr/local/lib/python3.10/dist-packages (from markovify) (1.3.8)\n"
          ]
        }
      ],
      "source": [
        "!pip install markovify"
      ]
    },
    {
      "cell_type": "code",
      "source": [
        "import markovify\n",
        "from google.colab import files\n",
        "uploaded = files.upload()\n",
        "with open('Formula 1 The Pinnacle of Motorspor.txt', 'r') as f:\n",
        "    text = f.read()\n",
        "    print(text)"
      ],
      "metadata": {
        "colab": {
          "base_uri": "https://localhost:8080/",
          "height": 943
        },
        "collapsed": true,
        "id": "Ef_b6mx7ybD7",
        "outputId": "e9345192-0ee6-43ab-d976-543df4c60761"
      },
      "execution_count": 6,
      "outputs": [
        {
          "output_type": "display_data",
          "data": {
            "text/plain": [
              "<IPython.core.display.HTML object>"
            ],
            "text/html": [
              "\n",
              "     <input type=\"file\" id=\"files-84d61d4d-227e-471f-9451-fccf04048ebc\" name=\"files[]\" multiple disabled\n",
              "        style=\"border:none\" />\n",
              "     <output id=\"result-84d61d4d-227e-471f-9451-fccf04048ebc\">\n",
              "      Upload widget is only available when the cell has been executed in the\n",
              "      current browser session. Please rerun this cell to enable.\n",
              "      </output>\n",
              "      <script>// Copyright 2017 Google LLC\n",
              "//\n",
              "// Licensed under the Apache License, Version 2.0 (the \"License\");\n",
              "// you may not use this file except in compliance with the License.\n",
              "// You may obtain a copy of the License at\n",
              "//\n",
              "//      http://www.apache.org/licenses/LICENSE-2.0\n",
              "//\n",
              "// Unless required by applicable law or agreed to in writing, software\n",
              "// distributed under the License is distributed on an \"AS IS\" BASIS,\n",
              "// WITHOUT WARRANTIES OR CONDITIONS OF ANY KIND, either express or implied.\n",
              "// See the License for the specific language governing permissions and\n",
              "// limitations under the License.\n",
              "\n",
              "/**\n",
              " * @fileoverview Helpers for google.colab Python module.\n",
              " */\n",
              "(function(scope) {\n",
              "function span(text, styleAttributes = {}) {\n",
              "  const element = document.createElement('span');\n",
              "  element.textContent = text;\n",
              "  for (const key of Object.keys(styleAttributes)) {\n",
              "    element.style[key] = styleAttributes[key];\n",
              "  }\n",
              "  return element;\n",
              "}\n",
              "\n",
              "// Max number of bytes which will be uploaded at a time.\n",
              "const MAX_PAYLOAD_SIZE = 100 * 1024;\n",
              "\n",
              "function _uploadFiles(inputId, outputId) {\n",
              "  const steps = uploadFilesStep(inputId, outputId);\n",
              "  const outputElement = document.getElementById(outputId);\n",
              "  // Cache steps on the outputElement to make it available for the next call\n",
              "  // to uploadFilesContinue from Python.\n",
              "  outputElement.steps = steps;\n",
              "\n",
              "  return _uploadFilesContinue(outputId);\n",
              "}\n",
              "\n",
              "// This is roughly an async generator (not supported in the browser yet),\n",
              "// where there are multiple asynchronous steps and the Python side is going\n",
              "// to poll for completion of each step.\n",
              "// This uses a Promise to block the python side on completion of each step,\n",
              "// then passes the result of the previous step as the input to the next step.\n",
              "function _uploadFilesContinue(outputId) {\n",
              "  const outputElement = document.getElementById(outputId);\n",
              "  const steps = outputElement.steps;\n",
              "\n",
              "  const next = steps.next(outputElement.lastPromiseValue);\n",
              "  return Promise.resolve(next.value.promise).then((value) => {\n",
              "    // Cache the last promise value to make it available to the next\n",
              "    // step of the generator.\n",
              "    outputElement.lastPromiseValue = value;\n",
              "    return next.value.response;\n",
              "  });\n",
              "}\n",
              "\n",
              "/**\n",
              " * Generator function which is called between each async step of the upload\n",
              " * process.\n",
              " * @param {string} inputId Element ID of the input file picker element.\n",
              " * @param {string} outputId Element ID of the output display.\n",
              " * @return {!Iterable<!Object>} Iterable of next steps.\n",
              " */\n",
              "function* uploadFilesStep(inputId, outputId) {\n",
              "  const inputElement = document.getElementById(inputId);\n",
              "  inputElement.disabled = false;\n",
              "\n",
              "  const outputElement = document.getElementById(outputId);\n",
              "  outputElement.innerHTML = '';\n",
              "\n",
              "  const pickedPromise = new Promise((resolve) => {\n",
              "    inputElement.addEventListener('change', (e) => {\n",
              "      resolve(e.target.files);\n",
              "    });\n",
              "  });\n",
              "\n",
              "  const cancel = document.createElement('button');\n",
              "  inputElement.parentElement.appendChild(cancel);\n",
              "  cancel.textContent = 'Cancel upload';\n",
              "  const cancelPromise = new Promise((resolve) => {\n",
              "    cancel.onclick = () => {\n",
              "      resolve(null);\n",
              "    };\n",
              "  });\n",
              "\n",
              "  // Wait for the user to pick the files.\n",
              "  const files = yield {\n",
              "    promise: Promise.race([pickedPromise, cancelPromise]),\n",
              "    response: {\n",
              "      action: 'starting',\n",
              "    }\n",
              "  };\n",
              "\n",
              "  cancel.remove();\n",
              "\n",
              "  // Disable the input element since further picks are not allowed.\n",
              "  inputElement.disabled = true;\n",
              "\n",
              "  if (!files) {\n",
              "    return {\n",
              "      response: {\n",
              "        action: 'complete',\n",
              "      }\n",
              "    };\n",
              "  }\n",
              "\n",
              "  for (const file of files) {\n",
              "    const li = document.createElement('li');\n",
              "    li.append(span(file.name, {fontWeight: 'bold'}));\n",
              "    li.append(span(\n",
              "        `(${file.type || 'n/a'}) - ${file.size} bytes, ` +\n",
              "        `last modified: ${\n",
              "            file.lastModifiedDate ? file.lastModifiedDate.toLocaleDateString() :\n",
              "                                    'n/a'} - `));\n",
              "    const percent = span('0% done');\n",
              "    li.appendChild(percent);\n",
              "\n",
              "    outputElement.appendChild(li);\n",
              "\n",
              "    const fileDataPromise = new Promise((resolve) => {\n",
              "      const reader = new FileReader();\n",
              "      reader.onload = (e) => {\n",
              "        resolve(e.target.result);\n",
              "      };\n",
              "      reader.readAsArrayBuffer(file);\n",
              "    });\n",
              "    // Wait for the data to be ready.\n",
              "    let fileData = yield {\n",
              "      promise: fileDataPromise,\n",
              "      response: {\n",
              "        action: 'continue',\n",
              "      }\n",
              "    };\n",
              "\n",
              "    // Use a chunked sending to avoid message size limits. See b/62115660.\n",
              "    let position = 0;\n",
              "    do {\n",
              "      const length = Math.min(fileData.byteLength - position, MAX_PAYLOAD_SIZE);\n",
              "      const chunk = new Uint8Array(fileData, position, length);\n",
              "      position += length;\n",
              "\n",
              "      const base64 = btoa(String.fromCharCode.apply(null, chunk));\n",
              "      yield {\n",
              "        response: {\n",
              "          action: 'append',\n",
              "          file: file.name,\n",
              "          data: base64,\n",
              "        },\n",
              "      };\n",
              "\n",
              "      let percentDone = fileData.byteLength === 0 ?\n",
              "          100 :\n",
              "          Math.round((position / fileData.byteLength) * 100);\n",
              "      percent.textContent = `${percentDone}% done`;\n",
              "\n",
              "    } while (position < fileData.byteLength);\n",
              "  }\n",
              "\n",
              "  // All done.\n",
              "  yield {\n",
              "    response: {\n",
              "      action: 'complete',\n",
              "    }\n",
              "  };\n",
              "}\n",
              "\n",
              "scope.google = scope.google || {};\n",
              "scope.google.colab = scope.google.colab || {};\n",
              "scope.google.colab._files = {\n",
              "  _uploadFiles,\n",
              "  _uploadFilesContinue,\n",
              "};\n",
              "})(self);\n",
              "</script> "
            ]
          },
          "metadata": {}
        },
        {
          "output_type": "stream",
          "name": "stdout",
          "text": [
            "Saving Formula 1 The Pinnacle of Motorspor.txt to Formula 1 The Pinnacle of Motorspor (3).txt\n",
            "**Formula 1: The Pinnacle of Motorsport**\n",
            "\n",
            "Formula 1 (F1) is widely regarded as the pinnacle of motorsport, combining speed, technology, and the talents of some of the best drivers in the world. The allure of F1 lies not only in its high-speed races and state-of-the-art technology but also in its rich history, the intense rivalry among drivers and teams, and the continuous quest for innovation and excellence. This essay explores the various facets of F1, from its origins and evolution to its present-day significance in sports and technology.\n",
            "\n",
            "### Origins and Evolution\n",
            "\n",
            "The origins of Formula 1 can be traced back to the early 20th century, with the first official F1 World Championship race held in 1950 at Silverstone in the United Kingdom. The term \"Formula\" refers to a set of rules that all participants' cars must conform to, emphasizing the importance of standardized competition. The \"1\" denotes the highest class of single-seater auto racing.\n",
            "\n",
            "The early years of F1 were characterized by a mix of daring drivers and rudimentary technology. Cars were fast but lacked the safety features and technological sophistication of today's vehicles. The sport quickly grew in popularity, attracting manufacturers, sponsors, and an international fan base. As the years went by, technological advancements led to more powerful engines, better aerodynamics, and safer cars, making F1 the cutting-edge competition it is today.\n",
            "\n",
            "### Technological Advancements\n",
            "\n",
            "Technology is at the heart of Formula 1, with teams spending millions of dollars annually to gain even the slightest advantage over their rivals. The evolution of technology in F1 can be seen in several key areas:\n",
            "\n",
            "1. **Aerodynamics**: Aerodynamics plays a crucial role in F1, where the shape of the car significantly affects its speed and handling. Innovations such as the introduction of ground effect aerodynamics in the late 1970s and the development of complex front and rear wings have revolutionized the sport. Modern F1 cars are designed to maximize downforce, which pushes the car onto the track, allowing it to corner at higher speeds.\n",
            "\n",
            "2. **Power Units**: The engines used in F1 cars have evolved from naturally aspirated V12 engines to the current hybrid power units, which combine a traditional internal combustion engine with electric motors. These hybrid units are not only powerful but also more efficient, reflecting the sport’s commitment to sustainability and innovation.\n",
            "\n",
            "3. **Materials and Engineering**: The materials used in constructing F1 cars have also evolved significantly. Teams now use lightweight and strong materials like carbon fiber composites, which enhance the car's performance while ensuring driver safety. Advanced engineering techniques, including computer-aided design (CAD) and computational fluid dynamics (CFD), are integral to developing these sophisticated machines.\n",
            "\n",
            "4. **Safety**: Safety has always been a priority in F1, but the tragic accidents of the past have led to a significant focus on improving driver protection. Innovations such as the HANS device (Head and Neck Support), halo cockpit protection, and energy-absorbing barriers have made the sport much safer. The halo, introduced in 2018, is a titanium structure that protects drivers from flying debris and impacts, highlighting the sport's commitment to safety.\n",
            "\n",
            "### The Drivers: Skill, Precision, and Bravery\n",
            "\n",
            "F1 drivers are among the most skilled and fearless athletes in the world. They require an extraordinary combination of physical fitness, mental acuity, and driving talent to compete at the highest level. The physical demands of driving an F1 car are immense; drivers experience high G-forces while cornering, braking, and accelerating, requiring exceptional strength and endurance.\n",
            "\n",
            "In addition to physical prowess, F1 drivers must possess razor-sharp reflexes and the ability to make split-second decisions at speeds exceeding 300 km/h. The psychological aspect of racing is also crucial, as drivers must remain calm under pressure and maintain concentration for the duration of the race, which can last up to two hours.\n",
            "\n",
            "F1 has produced some legendary drivers, such as Ayrton Senna, Michael Schumacher, and Lewis Hamilton, whose skills, determination, and charisma have captivated fans worldwide. These drivers are celebrated not just for their success on the track but also for their contributions to the sport’s legacy and culture.\n",
            "\n",
            "### Teams and Rivalries\n",
            "\n",
            "F1 is not just about the drivers; it is also about the teams that support them. Teams like Ferrari, McLaren, Mercedes, and Red Bull Racing have become household names, each with a rich history and a loyal fan base. The competition between these teams is intense, with each seeking to outperform the others in terms of car development, strategy, and race execution.\n",
            "\n",
            "Rivalries between teams and drivers add another layer of excitement to F1. Historic rivalries, such as the fierce battles between Ayrton Senna and Alain Prost in the late 1980s and early 1990s, or the more recent duels between Lewis Hamilton and Max Verstappen, have defined eras of the sport and created lasting memories for fans.\n",
            "\n",
            "### The Global Stage\n",
            "\n",
            "F1 is a truly global sport, with races held on five continents and a fan base that spans the globe. The World Championship calendar features iconic circuits like Monaco, Silverstone, and Monza, as well as newer venues like the Marina Bay Street Circuit in Singapore and the Yas Marina Circuit in Abu Dhabi. Each race is a spectacle, attracting hundreds of thousands of spectators and millions of television viewers.\n",
            "\n",
            "The global nature of F1 also means that it is a significant platform for marketing and sponsorship. Brands associated with F1 benefit from exposure to a worldwide audience, and the sport’s glamorous image aligns well with luxury products and services.\n",
            "\n",
            "### Environmental Impact and Sustainability\n",
            "\n",
            "In recent years, F1 has faced criticism for its environmental impact, given the carbon emissions associated with races and car development. In response, the sport has taken significant steps to reduce its carbon footprint and promote sustainability. The introduction of hybrid power units is one such measure, and F1 aims to be a net-zero carbon sport by 2030. Initiatives such as using sustainable fuels, reducing single-use plastics, and improving energy efficiency at races are part of this ambitious plan.\n",
            "\n",
            "### Conclusion\n",
            "\n",
            "Formula 1 is more than just a sport; it is a blend of cutting-edge technology, human skill, and global entertainment. Its rich history, technological advancements, and global appeal make it unique in the world of sports. While challenges such as environmental sustainability remain, the sport’s ability to innovate and adapt ensures its place at the forefront of motorsport. As F1 continues to evolve, it will undoubtedly keep thrilling fans and pushing the boundaries of what is possible in racing.\n"
          ]
        }
      ]
    },
    {
      "cell_type": "code",
      "source": [
        "text_model = markovify.Text(text)\n",
        "for i in range(5):\n",
        "    print(text_model.make_sentence())"
      ],
      "metadata": {
        "colab": {
          "base_uri": "https://localhost:8080/"
        },
        "id": "0oMZ1fZGxxoT",
        "outputId": "0d48b1e3-de97-4940-adb9-e561bb03698b"
      },
      "execution_count": 7,
      "outputs": [
        {
          "output_type": "stream",
          "name": "stdout",
          "text": [
            "Brands associated with races held on five continents and a loyal fan base.\n",
            "### Origins and Evolution The origins of Formula 1 can be seen in several key areas: 1.\n",
            "The early years of F1 lies not only powerful but also more efficient, reflecting the sport’s commitment to safety.\n",
            "While challenges such as the introduction of ground effect aerodynamics in the United Kingdom.\n",
            "### The Global Stage F1 is not just about the teams that support them.\n"
          ]
        }
      ]
    },
    {
      "cell_type": "code",
      "source": [
        "print(text_model.make_short_sentence(100))"
      ],
      "metadata": {
        "colab": {
          "base_uri": "https://localhost:8080/"
        },
        "id": "k1YB1-ZQz6wK",
        "outputId": "4b1a95ce-1ce7-4858-c2fc-077ceebd274a"
      },
      "execution_count": 8,
      "outputs": [
        {
          "output_type": "stream",
          "name": "stdout",
          "text": [
            "The early years of F1 lies not only in its high-speed races and car development.\n"
          ]
        }
      ]
    },
    {
      "cell_type": "code",
      "source": [
        "text_model=markovify.Text(text,state_size=3)\n",
        "for i in range(5):\n",
        "  print(text_model.make_sentence())"
      ],
      "metadata": {
        "colab": {
          "base_uri": "https://localhost:8080/"
        },
        "id": "vBFwrTlhz_ye",
        "outputId": "c4f32ef6-2dbb-44c3-b2ef-f045557607ca"
      },
      "execution_count": 11,
      "outputs": [
        {
          "output_type": "stream",
          "name": "stdout",
          "text": [
            "The global nature of F1 also means that it is a blend of cutting-edge technology, human skill, and global entertainment.\n",
            "None\n",
            "The global nature of F1 also means that it is a blend of cutting-edge technology, human skill, and global entertainment.\n",
            "None\n",
            "### Conclusion Formula 1 is more than just a sport; it is a significant platform for marketing and sponsorship.\n"
          ]
        }
      ]
    }
  ]
}